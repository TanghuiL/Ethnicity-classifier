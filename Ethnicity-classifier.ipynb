{
 "cells": [
  {
   "cell_type": "markdown",
   "metadata": {},
   "source": [
    "# Ethnicity classifier with a Conv Net\n",
    "A classifier to identify the ethnicity of a person's face. The core of the classifier machine is a Convolutional Net. "
   ]
  },
  {
   "cell_type": "code",
   "execution_count": 7,
   "metadata": {},
   "outputs": [],
   "source": [
    "__author__ = \"Joann H. Tang, PhD\"\n",
    "__copyright__ = \"Copyright 2018\"\n",
    "__email__ = \"eagtang2007@gmail.com\"\n",
    "__status__ = \"Prototype\""
   ]
  },
  {
   "cell_type": "code",
   "execution_count": 70,
   "metadata": {},
   "outputs": [],
   "source": [
    "import keras\n",
    "import keras.utils\n",
    "from keras.models import Sequential\n",
    "#Core layers\n",
    "from keras.layers import Dense, Dropout, Activation, Flatten\n",
    "#CNN layers\n",
    "from keras.layers import SeparableConv2D, Conv2D, MaxPooling2D\n",
    "from keras.models import model_from_json\n",
    "\n",
    "import numpy as np\n",
    "import pandas as pd\n",
    "import h5py\n",
    "\n",
    "import io,json\n",
    "\n",
    "import sqlite3\n",
    "\n",
    "\n",
    "from matplotlib import pyplot as plt\n",
    "import cv2"
   ]
  },
  {
   "cell_type": "markdown",
   "metadata": {},
   "source": [
    "#### Set the directory path"
   ]
  },
  {
   "cell_type": "code",
   "execution_count": 14,
   "metadata": {},
   "outputs": [],
   "source": [
    "path = \"/Users/huizhentang/Documents/Repos/Pet-projects/Ethnicity-Classifier/Datasets/\"\n",
    "save_path = \"/Users/huizhentang/Documents/Repos/Pet-projects/Ethnicity-Classifier/\""
   ]
  },
  {
   "cell_type": "markdown",
   "metadata": {},
   "source": [
    "#### Setting up parameters for the classifier¶"
   ]
  },
  {
   "cell_type": "code",
   "execution_count": 53,
   "metadata": {},
   "outputs": [],
   "source": [
    "batch_size = 64\n",
    "num_classes = 4\n",
    "epochs = 30\n",
    "dropout = 0.2"
   ]
  },
  {
   "cell_type": "markdown",
   "metadata": {},
   "source": [
    "#### Load data"
   ]
  },
  {
   "cell_type": "code",
   "execution_count": 54,
   "metadata": {},
   "outputs": [],
   "source": [
    "#Connect to the database. \n",
    "conn = sqlite3.connect(path + 'ethface.db')\n",
    "cur = conn.cursor() \n",
    "\n",
    "#Load data from databse using pandas.read_sql_query. \n",
    "x = pd.read_sql_query(\"SELECT * FROM ethface_asian_features;\", conn)\n",
    "y = pd.read_sql_query(\"SELECT * FROM ethface_asian_labels;\", conn)\n",
    "\n",
    "#Close connection to database\n",
    "cur.close() \n",
    "conn.close()"
   ]
  },
  {
   "cell_type": "code",
   "execution_count": 55,
   "metadata": {},
   "outputs": [],
   "source": [
    "x.drop('index', axis=1, inplace=True)\n",
    "y.drop('index', axis=1, inplace=True)\n",
    "x = x.values #Convert dataframe to array\n",
    "n = int(len(x[:,0])/(128*128))\n",
    "x = np.reshape(x,(n,128,128,3), order='C')\n",
    "y = y.values #Convert dataframe to array"
   ]
  },
  {
   "cell_type": "markdown",
   "metadata": {},
   "source": [
    "#### Data formatting and normalization"
   ]
  },
  {
   "cell_type": "code",
   "execution_count": 56,
   "metadata": {},
   "outputs": [],
   "source": [
    "#Ensuring data casting to the right data type\n",
    "x = (x).astype('float32')\n",
    "#Feature normalization\n",
    "x /= 255\n",
    "#Convert class vectors to binary class matrices¶\n",
    "y = keras.utils.to_categorical(np.asarray(y), num_classes)"
   ]
  },
  {
   "cell_type": "markdown",
   "metadata": {},
   "source": [
    "#### Splitting dataset into training, validation, and test set¶"
   ]
  },
  {
   "cell_type": "code",
   "execution_count": 57,
   "metadata": {},
   "outputs": [],
   "source": [
    "def split_dataset(X,Y,p_train,p_val,p_test):\n",
    "    \"\"\"\n",
    "    Randomly select a defined percentge of the dataset as train set \n",
    "    and divide the rest for validation set and test set \n",
    "   \n",
    "    Arguments:\n",
    "    X -- numpy array of feature data, here, they are the pixel values of images\n",
    "    Y -- numpy array of label data\n",
    "    p_train -- the percentage of the total dataset that assigned as training set\n",
    "    p_train -- the percentage of the total dataset that assigned as validation set\n",
    "    p_train -- the percentage of the total dataset that assigned as testing set\n",
    "    \n",
    "    Returns:\n",
    "    x_train -- pixel values of images in the training set\n",
    "    y_train -- labels of images in the training set\n",
    "    x_val -- pixel values of images in the validation set\n",
    "    y_val -- labels of images in the validation set\n",
    "    x_test -- pixel values of images in the test set\n",
    "    y_test -- labels of images in the test set\n",
    "\n",
    "    \"\"\"\n",
    "    idx_train = np.random.randint(len(y[:,0]), size=round(len(y[:,0])*p_train))\n",
    "    idx_val = np.random.randint(len(y[:,0]), size=round(len(y[:,0])*p_val))\n",
    "    idx_test = np.random.randint(len(y[:,0]), size=round(len(y[:,0])*p_test))\n",
    "    x_train = X[idx_train,:]\n",
    "    y_train = Y[idx_train,:]\n",
    "    x_val = X[idx_val,:]\n",
    "    y_val = Y[idx_val,:]\n",
    "    x_test = X[idx_test,:]\n",
    "    y_test = Y[idx_test,:]\n",
    "    return x_train, y_train, x_val, y_val, x_test, y_test"
   ]
  },
  {
   "cell_type": "code",
   "execution_count": 58,
   "metadata": {},
   "outputs": [
    {
     "name": "stdout",
     "output_type": "stream",
     "text": [
      "(3145, 128, 128, 3)\n",
      "(3145, 4)\n",
      "(674, 128, 128, 3)\n",
      "(674, 4)\n",
      "(674, 128, 128, 3)\n",
      "(674, 4)\n"
     ]
    }
   ],
   "source": [
    "x_train,y_train,x_val,y_val,x_test,y_test=split_dataset(x,y,0.7,0.15,0.15)\n",
    "print(x_train.shape)\n",
    "print(y_train.shape)\n",
    "print(x_val.shape)\n",
    "print(y_val.shape)\n",
    "print(x_test.shape)\n",
    "print(y_test.shape)"
   ]
  },
  {
   "cell_type": "markdown",
   "metadata": {},
   "source": [
    "#### Build a convolutional neural network"
   ]
  },
  {
   "cell_type": "code",
   "execution_count": 59,
   "metadata": {},
   "outputs": [],
   "source": [
    "#Declare a sequential model\n",
    "model = Sequential()\n",
    "#CNN input layer \n",
    "model.add(SeparableConv2D(32, kernel_size =(3,3), \n",
    "                 activation='relu', \n",
    "                 depth_multiplier = 3,\n",
    "                 padding = 'same',\n",
    "                 input_shape=x_train.shape[1:]))\n",
    "\n",
    "#Add hidden layers to the model \n",
    "model.add(Conv2D(32,(3,3), activation='relu'))\n",
    "model.add(MaxPooling2D(pool_size=(2,2)))\n",
    "model.add(Dropout(dropout))\n",
    "model.add(Conv2D(64,(3,3), activation='relu'))\n",
    "model.add(MaxPooling2D(pool_size=(2,2)))\n",
    "model.add(Dropout(dropout))\n",
    "model.add(Conv2D(64,(3,3), activation='relu'))\n",
    "model.add(MaxPooling2D(pool_size=(2,2)))\n",
    "model.add(Dropout(dropout))\n",
    "\n",
    "#Fully connected Dense layers \n",
    "model.add(Flatten())\n",
    "model.add(Dense(512, activation='relu'))\n",
    "model.add(Dropout(dropout))\n",
    "model.add(Dense(num_classes, activation='softmax'))"
   ]
  },
  {
   "cell_type": "markdown",
   "metadata": {},
   "source": [
    "#### Generate model summary"
   ]
  },
  {
   "cell_type": "code",
   "execution_count": 60,
   "metadata": {},
   "outputs": [
    {
     "name": "stdout",
     "output_type": "stream",
     "text": [
      "_________________________________________________________________\n",
      "Layer (type)                 Output Shape              Param #   \n",
      "=================================================================\n",
      "separable_conv2d_2 (Separabl (None, 128, 128, 32)      401       \n",
      "_________________________________________________________________\n",
      "conv2d_4 (Conv2D)            (None, 126, 126, 32)      9248      \n",
      "_________________________________________________________________\n",
      "max_pooling2d_4 (MaxPooling2 (None, 63, 63, 32)        0         \n",
      "_________________________________________________________________\n",
      "dropout_5 (Dropout)          (None, 63, 63, 32)        0         \n",
      "_________________________________________________________________\n",
      "conv2d_5 (Conv2D)            (None, 61, 61, 64)        18496     \n",
      "_________________________________________________________________\n",
      "max_pooling2d_5 (MaxPooling2 (None, 30, 30, 64)        0         \n",
      "_________________________________________________________________\n",
      "dropout_6 (Dropout)          (None, 30, 30, 64)        0         \n",
      "_________________________________________________________________\n",
      "conv2d_6 (Conv2D)            (None, 28, 28, 64)        36928     \n",
      "_________________________________________________________________\n",
      "max_pooling2d_6 (MaxPooling2 (None, 14, 14, 64)        0         \n",
      "_________________________________________________________________\n",
      "dropout_7 (Dropout)          (None, 14, 14, 64)        0         \n",
      "_________________________________________________________________\n",
      "flatten_2 (Flatten)          (None, 12544)             0         \n",
      "_________________________________________________________________\n",
      "dense_3 (Dense)              (None, 512)               6423040   \n",
      "_________________________________________________________________\n",
      "dropout_8 (Dropout)          (None, 512)               0         \n",
      "_________________________________________________________________\n",
      "dense_4 (Dense)              (None, 4)                 2052      \n",
      "=================================================================\n",
      "Total params: 6,490,165\n",
      "Trainable params: 6,490,165\n",
      "Non-trainable params: 0\n",
      "_________________________________________________________________\n"
     ]
    }
   ],
   "source": [
    "model.summary()"
   ]
  },
  {
   "cell_type": "markdown",
   "metadata": {},
   "source": [
    "#### Compile model"
   ]
  },
  {
   "cell_type": "code",
   "execution_count": 61,
   "metadata": {},
   "outputs": [],
   "source": [
    "model.compile(loss='categorical_crossentropy',\n",
    "             optimizer='adam',\n",
    "             metrics=['accuracy'])"
   ]
  },
  {
   "cell_type": "markdown",
   "metadata": {},
   "source": [
    "#### Train the neural network model"
   ]
  },
  {
   "cell_type": "code",
   "execution_count": 62,
   "metadata": {},
   "outputs": [
    {
     "name": "stdout",
     "output_type": "stream",
     "text": [
      "Train on 3145 samples, validate on 674 samples\n",
      "Epoch 1/30\n",
      "3145/3145 [==============================] - 185s 59ms/step - loss: 1.5851 - acc: 0.2871 - val_loss: 1.3874 - val_acc: 0.2300\n",
      "Epoch 2/30\n",
      "3145/3145 [==============================] - 143s 45ms/step - loss: 1.3589 - acc: 0.3129 - val_loss: 1.3589 - val_acc: 0.3042\n",
      "Epoch 3/30\n",
      "3145/3145 [==============================] - 148s 47ms/step - loss: 1.3265 - acc: 0.3466 - val_loss: 1.3568 - val_acc: 0.3086\n",
      "Epoch 4/30\n",
      "3145/3145 [==============================] - 147s 47ms/step - loss: 1.3089 - acc: 0.3876 - val_loss: 1.3363 - val_acc: 0.3338\n",
      "Epoch 5/30\n",
      "3145/3145 [==============================] - 148s 47ms/step - loss: 1.2588 - acc: 0.4305 - val_loss: 1.2931 - val_acc: 0.3887\n",
      "Epoch 6/30\n",
      "3145/3145 [==============================] - 147s 47ms/step - loss: 1.2013 - acc: 0.4642 - val_loss: 1.2694 - val_acc: 0.3902\n",
      "Epoch 7/30\n",
      "3145/3145 [==============================] - 147s 47ms/step - loss: 1.1166 - acc: 0.5196 - val_loss: 1.2090 - val_acc: 0.4733\n",
      "Epoch 8/30\n",
      "3145/3145 [==============================] - 146s 46ms/step - loss: 1.0069 - acc: 0.5895 - val_loss: 1.1884 - val_acc: 0.4866\n",
      "Epoch 9/30\n",
      "3145/3145 [==============================] - 146s 46ms/step - loss: 0.8473 - acc: 0.6722 - val_loss: 1.0440 - val_acc: 0.5964\n",
      "Epoch 10/30\n",
      "3145/3145 [==============================] - 147s 47ms/step - loss: 0.6176 - acc: 0.7739 - val_loss: 1.0507 - val_acc: 0.6320\n",
      "Epoch 11/30\n",
      "3145/3145 [==============================] - 145s 46ms/step - loss: 0.4448 - acc: 0.8467 - val_loss: 1.0827 - val_acc: 0.6855\n",
      "Epoch 12/30\n",
      "3145/3145 [==============================] - 145s 46ms/step - loss: 0.3190 - acc: 0.8913 - val_loss: 1.1849 - val_acc: 0.6958\n",
      "Epoch 13/30\n",
      "3145/3145 [==============================] - 146s 46ms/step - loss: 0.2489 - acc: 0.9231 - val_loss: 1.2483 - val_acc: 0.6929\n",
      "Epoch 14/30\n",
      "3145/3145 [==============================] - 147s 47ms/step - loss: 0.2200 - acc: 0.9367 - val_loss: 1.3289 - val_acc: 0.7047\n",
      "Epoch 15/30\n",
      "3145/3145 [==============================] - 148s 47ms/step - loss: 0.1693 - acc: 0.9469 - val_loss: 1.2648 - val_acc: 0.7151\n",
      "Epoch 16/30\n",
      "3145/3145 [==============================] - 145s 46ms/step - loss: 0.1382 - acc: 0.9631 - val_loss: 1.1831 - val_acc: 0.7226\n",
      "Epoch 17/30\n",
      "3145/3145 [==============================] - 146s 46ms/step - loss: 0.1254 - acc: 0.9603 - val_loss: 1.2880 - val_acc: 0.7018\n",
      "Epoch 18/30\n",
      "3145/3145 [==============================] - 150s 48ms/step - loss: 0.1059 - acc: 0.9714 - val_loss: 1.2574 - val_acc: 0.7107\n",
      "Epoch 19/30\n",
      "3145/3145 [==============================] - 146s 46ms/step - loss: 0.1064 - acc: 0.9682 - val_loss: 1.2883 - val_acc: 0.7122\n",
      "Epoch 20/30\n",
      "3145/3145 [==============================] - 148s 47ms/step - loss: 0.1017 - acc: 0.9704 - val_loss: 1.3770 - val_acc: 0.7107\n",
      "Epoch 21/30\n",
      "3145/3145 [==============================] - 148s 47ms/step - loss: 0.1036 - acc: 0.9720 - val_loss: 1.2667 - val_acc: 0.7107\n",
      "Epoch 22/30\n",
      "3145/3145 [==============================] - 171s 54ms/step - loss: 0.0908 - acc: 0.9730 - val_loss: 1.3188 - val_acc: 0.7136\n",
      "Epoch 23/30\n",
      "3145/3145 [==============================] - 160s 51ms/step - loss: 0.0843 - acc: 0.9742 - val_loss: 1.3705 - val_acc: 0.7062\n",
      "Epoch 24/30\n",
      "3145/3145 [==============================] - 152s 48ms/step - loss: 0.0777 - acc: 0.9765 - val_loss: 1.2171 - val_acc: 0.7092\n",
      "Epoch 25/30\n",
      "3145/3145 [==============================] - 157s 50ms/step - loss: 0.0745 - acc: 0.9749 - val_loss: 1.3571 - val_acc: 0.6973\n",
      "Epoch 26/30\n",
      "3145/3145 [==============================] - 161s 51ms/step - loss: 0.0927 - acc: 0.9695 - val_loss: 1.2517 - val_acc: 0.7047\n",
      "Epoch 27/30\n",
      "3145/3145 [==============================] - 156s 50ms/step - loss: 0.0785 - acc: 0.9752 - val_loss: 1.3724 - val_acc: 0.7166\n",
      "Epoch 28/30\n",
      "3145/3145 [==============================] - 155s 49ms/step - loss: 0.0719 - acc: 0.9736 - val_loss: 1.2918 - val_acc: 0.7107\n",
      "Epoch 29/30\n",
      "3145/3145 [==============================] - 159s 50ms/step - loss: 0.0612 - acc: 0.9771 - val_loss: 1.3075 - val_acc: 0.7181\n",
      "Epoch 30/30\n",
      "3145/3145 [==============================] - 165s 53ms/step - loss: 0.0584 - acc: 0.9800 - val_loss: 1.2898 - val_acc: 0.7122\n"
     ]
    }
   ],
   "source": [
    "history = model.fit(x_train, y_train,\n",
    "                    batch_size=batch_size,\n",
    "                    epochs=epochs,\n",
    "                    verbose=1,\n",
    "                    validation_data=(x_val, y_val))"
   ]
  },
  {
   "cell_type": "markdown",
   "metadata": {},
   "source": [
    "#### Save model and weights"
   ]
  },
  {
   "cell_type": "code",
   "execution_count": 63,
   "metadata": {},
   "outputs": [
    {
     "name": "stdout",
     "output_type": "stream",
     "text": [
      "Model saved to: /Users/huizhentang/Documents/Repos/Pet-projects/Ethnicity-Classifier/\n"
     ]
    }
   ],
   "source": [
    "#Serialize model to JSON\n",
    "model_json = model.to_json()\n",
    "with io.open('model.json', 'w', encoding='utf-8') as json_file:\n",
    "    json_file.write(model_json)\n",
    "\n",
    "#Serialize weights to HDF5\n",
    "model.save_weights(save_path + \"model.h5\")\n",
    "\n",
    "print(\"Model saved to: \" + save_path)"
   ]
  },
  {
   "cell_type": "markdown",
   "metadata": {},
   "source": [
    "#### Load model and weights"
   ]
  },
  {
   "cell_type": "code",
   "execution_count": 64,
   "metadata": {},
   "outputs": [
    {
     "name": "stdout",
     "output_type": "stream",
     "text": [
      "Loaded trained model\n"
     ]
    }
   ],
   "source": [
    "#Load json and recreate model\n",
    "with open(save_path + 'model.json') as json_file:\n",
    "    trained_model = model_from_json(json_file.read())\n",
    "\n",
    "#Load weights into new model\n",
    "trained_model.load_weights('model.h5')\n",
    "\n",
    "print(\"Loaded trained model\")"
   ]
  },
  {
   "cell_type": "markdown",
   "metadata": {},
   "source": [
    "#### Run evaluation on the trained model with the test set"
   ]
  },
  {
   "cell_type": "code",
   "execution_count": 65,
   "metadata": {},
   "outputs": [
    {
     "name": "stdout",
     "output_type": "stream",
     "text": [
      "Test loss: 1.16797035647\n",
      "Test accuracy: 0.710682492582\n"
     ]
    }
   ],
   "source": [
    "trained_model.compile(loss='categorical_crossentropy',\n",
    "                     optimizer='adam',\n",
    "                     metrics=['accuracy'])\n",
    "score = trained_model.evaluate(x_test, y_test, verbose=0)\n",
    "print('Test loss:', score[0])\n",
    "print('Test accuracy:', score[1])"
   ]
  },
  {
   "cell_type": "markdown",
   "metadata": {},
   "source": [
    "#### Prediction "
   ]
  },
  {
   "cell_type": "code",
   "execution_count": 74,
   "metadata": {},
   "outputs": [
    {
     "name": "stdout",
     "output_type": "stream",
     "text": [
      "/Users/huizhentang/Documents/Repos/Pet-projects/Ethnicity-Classifier/Datasets//Asian/Pred/14*.jpg\n"
     ]
    }
   ],
   "source": [
    "print(path + '/Asian/Pred/' + str(n) +'*.jpg')"
   ]
  },
  {
   "cell_type": "code",
   "execution_count": 76,
   "metadata": {},
   "outputs": [
    {
     "data": {
      "image/png": "[encoded data removed]",
      "text/plain": [
       "<matplotlib.figure.Figure at 0x1bb430518>"
      ]
     },
     "metadata": {},
     "output_type": "display_data"
    }
   ],
   "source": [
    "## # load and show image for ethnicity prediction\n",
    "n = np.random.randint(1,80)\n",
    "im_pred = cv2.imread(path + '/Asian/Pred/' + str(n) +'.jpg')\n",
    "RGB_im_pred = cv2.cvtColor(im_pred, cv2.COLOR_BGR2RGB)\n",
    "# Resize image to new size (width X height)\n",
    "width = 128\n",
    "height = 128\n",
    "resized_im_pred = cv2.resize(RGB_im_pred, (width,height), interpolation = cv2.INTER_AREA)\n",
    "plt.imshow(resized_im_pred)\n",
    "plt.title('Unknown ethnicity')\n",
    "plt.axis('off')\n",
    "plt.show()"
   ]
  },
  {
   "cell_type": "code",
   "execution_count": 81,
   "metadata": {},
   "outputs": [
    {
     "name": "stdout",
     "output_type": "stream",
     "text": [
      "(1, 128, 128, 3)\n"
     ]
    }
   ],
   "source": [
    "arr_x = np.zeros((1,width,height,3)) \n",
    "print(arr_x.shape)"
   ]
  },
  {
   "cell_type": "code",
   "execution_count": 87,
   "metadata": {},
   "outputs": [
    {
     "name": "stdout",
     "output_type": "stream",
     "text": [
      "Korean-Japanese-Chinese-Indian\n",
      "[ 0.  1.  0.  0.]\n"
     ]
    }
   ],
   "source": [
    "if im_pred is not None:\n",
    "    arr = np.asarray(resized_im_pred)\n",
    "arr_x[0,:] = arr\n",
    "arr_x = (arr_x).astype('float32')\n",
    "prediction = trained_model.predict(arr_x)[0]\n",
    "print('Korean-Japanese-Chinese-Indian')\n",
    "print(prediction)"
   ]
  },
  {
   "cell_type": "code",
   "execution_count": null,
   "metadata": {},
   "outputs": [],
   "source": []
  }
 ],
 "metadata": {
  "kernelspec": {
   "display_name": "Python 3",
   "language": "python",
   "name": "python3"
  },
  "language_info": {
   "codemirror_mode": {
    "name": "ipython",
    "version": 3
   },
   "file_extension": ".py",
   "mimetype": "text/x-python",
   "name": "python",
   "nbconvert_exporter": "python",
   "pygments_lexer": "ipython3",
   "version": "3.6.3"
  }
 },
 "nbformat": 4,
 "nbformat_minor": 2
}
