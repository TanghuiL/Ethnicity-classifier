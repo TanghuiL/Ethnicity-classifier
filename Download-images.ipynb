{
 "cells": [
  {
   "cell_type": "markdown",
   "metadata": {},
   "source": [
    "# Download images"
   ]
  },
  {
   "cell_type": "code",
   "execution_count": 2,
   "metadata": {},
   "outputs": [],
   "source": [
    "__author__ = \"Joann H. Tang, PhD\"\n",
    "__copyright__ = \"Copyright 2018\"\n",
    "__email__ = \"eagtang2007@gmail.com\"\n",
    "__status__ = \"Prototype\""
   ]
  },
  {
   "cell_type": "code",
   "execution_count": 3,
   "metadata": {},
   "outputs": [],
   "source": [
    "from google_images_download import google_images_download   \n",
    "from selenium import webdriver"
   ]
  },
  {
   "cell_type": "code",
   "execution_count": 4,
   "metadata": {},
   "outputs": [],
   "source": [
    "# Set data directory\n",
    "path = \"/Users/huizhentang/Documents/Repos/Pet-projects/Ethnicity-Classifier/Datasets\""
   ]
  },
  {
   "cell_type": "code",
   "execution_count": null,
   "metadata": {},
   "outputs": [],
   "source": [
    "browser = webdriver.Chrome(path=r\"chromedriver.exe\")\n",
    "response = google_images_download.googleimagesdownload()   \n",
    "\n",
    "#Korean faces\n",
    "arguments = {\"keywords\":\"Korean face\",\"limit\":1500,\"print_urls\":True, \"output_directory\":path}   \n",
    "response.download(arguments)    \n",
    "#Japanese faces\n",
    "arguments = {\"keywords\":\"Japanese face\",\"limit\":1500,\"print_urls\":True, \"output_directory\":path}   \n",
    "response.download(arguments)   \n",
    "#Chinese faces\n",
    "arguments = {\"keywords\":\"Chinese face\",\"limit\":1500,\"print_urls\":True, \"output_directory\":path}   \n",
    "response.download(arguments)   \n",
    "#Indian faces\n",
    "arguments = {\"keywords\":\"Indian face\",\"limit\":1500,\"print_urls\":True, \"output_directory\":\"/Users/huizhentang/Desktop/Insight demo/Datasets/google Image\"}   \n",
    "response.download(arguments)   "
   ]
  }
 ],
 "metadata": {
  "kernelspec": {
   "display_name": "Python 3",
   "language": "python",
   "name": "python3"
  },
  "language_info": {
   "codemirror_mode": {
    "name": "ipython",
    "version": 3
   },
   "file_extension": ".py",
   "mimetype": "text/x-python",
   "name": "python",
   "nbconvert_exporter": "python",
   "pygments_lexer": "ipython3",
   "version": "3.6.3"
  }
 },
 "nbformat": 4,
 "nbformat_minor": 2
}
